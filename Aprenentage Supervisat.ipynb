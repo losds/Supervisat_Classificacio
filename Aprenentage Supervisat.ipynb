{
 "cells": [
  {
   "cell_type": "markdown",
   "id": "demanding-purpose",
   "metadata": {},
   "source": [
    "# Exercici 1\n",
    "\n",
    "Crea almenys tres models de classificació diferents per intentar predir el millor possible l’endarreriment dels vols (ArrDelay) de DelayedFlights.csv. Considera si el vol ha arribat tard o no (ArrDelay > 0)."
   ]
  },
  {
   "cell_type": "code",
   "execution_count": 68,
   "id": "brief-seating",
   "metadata": {},
   "outputs": [],
   "source": [
    "import pandas as pd\n",
    "from sklearn.model_selection import train_test_split\n",
    "from sklearn.tree import DecisionTreeClassifier\n",
    "from sklearn import metrics \n",
    "from sklearn.naive_bayes import GaussianNB\n",
    "from sklearn.neighbors import KNeighborsClassifier\n",
    "import matplotlib.pyplot as plt"
   ]
  },
  {
   "cell_type": "code",
   "execution_count": 2,
   "id": "strategic-instruction",
   "metadata": {},
   "outputs": [],
   "source": [
    "df=pd.read_csv('DelayedFlights.csv')"
   ]
  },
  {
   "cell_type": "code",
   "execution_count": 3,
   "id": "brief-drive",
   "metadata": {},
   "outputs": [],
   "source": [
    "pd.set_option('display.max_columns', None)"
   ]
  },
  {
   "cell_type": "code",
   "execution_count": 4,
   "id": "variable-punishment",
   "metadata": {},
   "outputs": [
    {
     "data": {
      "text/html": [
       "<div>\n",
       "<style scoped>\n",
       "    .dataframe tbody tr th:only-of-type {\n",
       "        vertical-align: middle;\n",
       "    }\n",
       "\n",
       "    .dataframe tbody tr th {\n",
       "        vertical-align: top;\n",
       "    }\n",
       "\n",
       "    .dataframe thead th {\n",
       "        text-align: right;\n",
       "    }\n",
       "</style>\n",
       "<table border=\"1\" class=\"dataframe\">\n",
       "  <thead>\n",
       "    <tr style=\"text-align: right;\">\n",
       "      <th></th>\n",
       "      <th>Unnamed: 0</th>\n",
       "      <th>Year</th>\n",
       "      <th>Month</th>\n",
       "      <th>DayofMonth</th>\n",
       "      <th>DayOfWeek</th>\n",
       "      <th>DepTime</th>\n",
       "      <th>CRSDepTime</th>\n",
       "      <th>ArrTime</th>\n",
       "      <th>CRSArrTime</th>\n",
       "      <th>UniqueCarrier</th>\n",
       "      <th>FlightNum</th>\n",
       "      <th>TailNum</th>\n",
       "      <th>ActualElapsedTime</th>\n",
       "      <th>CRSElapsedTime</th>\n",
       "      <th>AirTime</th>\n",
       "      <th>ArrDelay</th>\n",
       "      <th>DepDelay</th>\n",
       "      <th>Origin</th>\n",
       "      <th>Dest</th>\n",
       "      <th>Distance</th>\n",
       "      <th>TaxiIn</th>\n",
       "      <th>TaxiOut</th>\n",
       "      <th>Cancelled</th>\n",
       "      <th>CancellationCode</th>\n",
       "      <th>Diverted</th>\n",
       "      <th>CarrierDelay</th>\n",
       "      <th>WeatherDelay</th>\n",
       "      <th>NASDelay</th>\n",
       "      <th>SecurityDelay</th>\n",
       "      <th>LateAircraftDelay</th>\n",
       "    </tr>\n",
       "  </thead>\n",
       "  <tbody>\n",
       "    <tr>\n",
       "      <th>0</th>\n",
       "      <td>0</td>\n",
       "      <td>2008</td>\n",
       "      <td>1</td>\n",
       "      <td>3</td>\n",
       "      <td>4</td>\n",
       "      <td>2003.0</td>\n",
       "      <td>1955</td>\n",
       "      <td>2211.0</td>\n",
       "      <td>2225</td>\n",
       "      <td>WN</td>\n",
       "      <td>335</td>\n",
       "      <td>N712SW</td>\n",
       "      <td>128.0</td>\n",
       "      <td>150.0</td>\n",
       "      <td>116.0</td>\n",
       "      <td>-14.0</td>\n",
       "      <td>8.0</td>\n",
       "      <td>IAD</td>\n",
       "      <td>TPA</td>\n",
       "      <td>810</td>\n",
       "      <td>4.0</td>\n",
       "      <td>8.0</td>\n",
       "      <td>0</td>\n",
       "      <td>N</td>\n",
       "      <td>0</td>\n",
       "      <td>NaN</td>\n",
       "      <td>NaN</td>\n",
       "      <td>NaN</td>\n",
       "      <td>NaN</td>\n",
       "      <td>NaN</td>\n",
       "    </tr>\n",
       "    <tr>\n",
       "      <th>1</th>\n",
       "      <td>1</td>\n",
       "      <td>2008</td>\n",
       "      <td>1</td>\n",
       "      <td>3</td>\n",
       "      <td>4</td>\n",
       "      <td>754.0</td>\n",
       "      <td>735</td>\n",
       "      <td>1002.0</td>\n",
       "      <td>1000</td>\n",
       "      <td>WN</td>\n",
       "      <td>3231</td>\n",
       "      <td>N772SW</td>\n",
       "      <td>128.0</td>\n",
       "      <td>145.0</td>\n",
       "      <td>113.0</td>\n",
       "      <td>2.0</td>\n",
       "      <td>19.0</td>\n",
       "      <td>IAD</td>\n",
       "      <td>TPA</td>\n",
       "      <td>810</td>\n",
       "      <td>5.0</td>\n",
       "      <td>10.0</td>\n",
       "      <td>0</td>\n",
       "      <td>N</td>\n",
       "      <td>0</td>\n",
       "      <td>NaN</td>\n",
       "      <td>NaN</td>\n",
       "      <td>NaN</td>\n",
       "      <td>NaN</td>\n",
       "      <td>NaN</td>\n",
       "    </tr>\n",
       "    <tr>\n",
       "      <th>2</th>\n",
       "      <td>2</td>\n",
       "      <td>2008</td>\n",
       "      <td>1</td>\n",
       "      <td>3</td>\n",
       "      <td>4</td>\n",
       "      <td>628.0</td>\n",
       "      <td>620</td>\n",
       "      <td>804.0</td>\n",
       "      <td>750</td>\n",
       "      <td>WN</td>\n",
       "      <td>448</td>\n",
       "      <td>N428WN</td>\n",
       "      <td>96.0</td>\n",
       "      <td>90.0</td>\n",
       "      <td>76.0</td>\n",
       "      <td>14.0</td>\n",
       "      <td>8.0</td>\n",
       "      <td>IND</td>\n",
       "      <td>BWI</td>\n",
       "      <td>515</td>\n",
       "      <td>3.0</td>\n",
       "      <td>17.0</td>\n",
       "      <td>0</td>\n",
       "      <td>N</td>\n",
       "      <td>0</td>\n",
       "      <td>NaN</td>\n",
       "      <td>NaN</td>\n",
       "      <td>NaN</td>\n",
       "      <td>NaN</td>\n",
       "      <td>NaN</td>\n",
       "    </tr>\n",
       "    <tr>\n",
       "      <th>3</th>\n",
       "      <td>4</td>\n",
       "      <td>2008</td>\n",
       "      <td>1</td>\n",
       "      <td>3</td>\n",
       "      <td>4</td>\n",
       "      <td>1829.0</td>\n",
       "      <td>1755</td>\n",
       "      <td>1959.0</td>\n",
       "      <td>1925</td>\n",
       "      <td>WN</td>\n",
       "      <td>3920</td>\n",
       "      <td>N464WN</td>\n",
       "      <td>90.0</td>\n",
       "      <td>90.0</td>\n",
       "      <td>77.0</td>\n",
       "      <td>34.0</td>\n",
       "      <td>34.0</td>\n",
       "      <td>IND</td>\n",
       "      <td>BWI</td>\n",
       "      <td>515</td>\n",
       "      <td>3.0</td>\n",
       "      <td>10.0</td>\n",
       "      <td>0</td>\n",
       "      <td>N</td>\n",
       "      <td>0</td>\n",
       "      <td>2.0</td>\n",
       "      <td>0.0</td>\n",
       "      <td>0.0</td>\n",
       "      <td>0.0</td>\n",
       "      <td>32.0</td>\n",
       "    </tr>\n",
       "    <tr>\n",
       "      <th>4</th>\n",
       "      <td>5</td>\n",
       "      <td>2008</td>\n",
       "      <td>1</td>\n",
       "      <td>3</td>\n",
       "      <td>4</td>\n",
       "      <td>1940.0</td>\n",
       "      <td>1915</td>\n",
       "      <td>2121.0</td>\n",
       "      <td>2110</td>\n",
       "      <td>WN</td>\n",
       "      <td>378</td>\n",
       "      <td>N726SW</td>\n",
       "      <td>101.0</td>\n",
       "      <td>115.0</td>\n",
       "      <td>87.0</td>\n",
       "      <td>11.0</td>\n",
       "      <td>25.0</td>\n",
       "      <td>IND</td>\n",
       "      <td>JAX</td>\n",
       "      <td>688</td>\n",
       "      <td>4.0</td>\n",
       "      <td>10.0</td>\n",
       "      <td>0</td>\n",
       "      <td>N</td>\n",
       "      <td>0</td>\n",
       "      <td>NaN</td>\n",
       "      <td>NaN</td>\n",
       "      <td>NaN</td>\n",
       "      <td>NaN</td>\n",
       "      <td>NaN</td>\n",
       "    </tr>\n",
       "  </tbody>\n",
       "</table>\n",
       "</div>"
      ],
      "text/plain": [
       "   Unnamed: 0  Year  Month  DayofMonth  DayOfWeek  DepTime  CRSDepTime  \\\n",
       "0           0  2008      1           3          4   2003.0        1955   \n",
       "1           1  2008      1           3          4    754.0         735   \n",
       "2           2  2008      1           3          4    628.0         620   \n",
       "3           4  2008      1           3          4   1829.0        1755   \n",
       "4           5  2008      1           3          4   1940.0        1915   \n",
       "\n",
       "   ArrTime  CRSArrTime UniqueCarrier  FlightNum TailNum  ActualElapsedTime  \\\n",
       "0   2211.0        2225            WN        335  N712SW              128.0   \n",
       "1   1002.0        1000            WN       3231  N772SW              128.0   \n",
       "2    804.0         750            WN        448  N428WN               96.0   \n",
       "3   1959.0        1925            WN       3920  N464WN               90.0   \n",
       "4   2121.0        2110            WN        378  N726SW              101.0   \n",
       "\n",
       "   CRSElapsedTime  AirTime  ArrDelay  DepDelay Origin Dest  Distance  TaxiIn  \\\n",
       "0           150.0    116.0     -14.0       8.0    IAD  TPA       810     4.0   \n",
       "1           145.0    113.0       2.0      19.0    IAD  TPA       810     5.0   \n",
       "2            90.0     76.0      14.0       8.0    IND  BWI       515     3.0   \n",
       "3            90.0     77.0      34.0      34.0    IND  BWI       515     3.0   \n",
       "4           115.0     87.0      11.0      25.0    IND  JAX       688     4.0   \n",
       "\n",
       "   TaxiOut  Cancelled CancellationCode  Diverted  CarrierDelay  WeatherDelay  \\\n",
       "0      8.0          0                N         0           NaN           NaN   \n",
       "1     10.0          0                N         0           NaN           NaN   \n",
       "2     17.0          0                N         0           NaN           NaN   \n",
       "3     10.0          0                N         0           2.0           0.0   \n",
       "4     10.0          0                N         0           NaN           NaN   \n",
       "\n",
       "   NASDelay  SecurityDelay  LateAircraftDelay  \n",
       "0       NaN            NaN                NaN  \n",
       "1       NaN            NaN                NaN  \n",
       "2       NaN            NaN                NaN  \n",
       "3       0.0            0.0               32.0  \n",
       "4       NaN            NaN                NaN  "
      ]
     },
     "execution_count": 4,
     "metadata": {},
     "output_type": "execute_result"
    }
   ],
   "source": [
    "df.head()"
   ]
  },
  {
   "cell_type": "code",
   "execution_count": 5,
   "id": "alive-peninsula",
   "metadata": {},
   "outputs": [],
   "source": [
    "#elimino la columna contador de filas Unnamed: 0\n",
    "df = df.drop('Unnamed: 0', 1)"
   ]
  },
  {
   "cell_type": "code",
   "execution_count": 6,
   "id": "chicken-novelty",
   "metadata": {},
   "outputs": [
    {
     "data": {
      "text/html": [
       "<div>\n",
       "<style scoped>\n",
       "    .dataframe tbody tr th:only-of-type {\n",
       "        vertical-align: middle;\n",
       "    }\n",
       "\n",
       "    .dataframe tbody tr th {\n",
       "        vertical-align: top;\n",
       "    }\n",
       "\n",
       "    .dataframe thead th {\n",
       "        text-align: right;\n",
       "    }\n",
       "</style>\n",
       "<table border=\"1\" class=\"dataframe\">\n",
       "  <thead>\n",
       "    <tr style=\"text-align: right;\">\n",
       "      <th></th>\n",
       "      <th>Year</th>\n",
       "      <th>Month</th>\n",
       "      <th>DayofMonth</th>\n",
       "      <th>DayOfWeek</th>\n",
       "      <th>DepTime</th>\n",
       "      <th>CRSDepTime</th>\n",
       "      <th>ArrTime</th>\n",
       "      <th>CRSArrTime</th>\n",
       "      <th>FlightNum</th>\n",
       "      <th>ActualElapsedTime</th>\n",
       "      <th>CRSElapsedTime</th>\n",
       "      <th>AirTime</th>\n",
       "      <th>ArrDelay</th>\n",
       "      <th>DepDelay</th>\n",
       "      <th>Distance</th>\n",
       "      <th>TaxiIn</th>\n",
       "      <th>TaxiOut</th>\n",
       "      <th>Cancelled</th>\n",
       "      <th>Diverted</th>\n",
       "      <th>CarrierDelay</th>\n",
       "      <th>WeatherDelay</th>\n",
       "      <th>NASDelay</th>\n",
       "      <th>SecurityDelay</th>\n",
       "      <th>LateAircraftDelay</th>\n",
       "    </tr>\n",
       "  </thead>\n",
       "  <tbody>\n",
       "    <tr>\n",
       "      <th>count</th>\n",
       "      <td>1936758.0</td>\n",
       "      <td>1936758.000</td>\n",
       "      <td>1936758.000</td>\n",
       "      <td>1936758.000</td>\n",
       "      <td>1936758.000</td>\n",
       "      <td>1936758.000</td>\n",
       "      <td>1929648.000</td>\n",
       "      <td>1936758.000</td>\n",
       "      <td>1936758.000</td>\n",
       "      <td>1928371.000</td>\n",
       "      <td>1936560.000</td>\n",
       "      <td>1928371.000</td>\n",
       "      <td>1928371.000</td>\n",
       "      <td>1936758.000</td>\n",
       "      <td>1936758.000</td>\n",
       "      <td>1929648.000</td>\n",
       "      <td>1936303.000</td>\n",
       "      <td>1936758.000</td>\n",
       "      <td>1936758.000</td>\n",
       "      <td>1247488.000</td>\n",
       "      <td>1247488.000</td>\n",
       "      <td>1247488.000</td>\n",
       "      <td>1247488.000</td>\n",
       "      <td>1247488.000</td>\n",
       "    </tr>\n",
       "    <tr>\n",
       "      <th>mean</th>\n",
       "      <td>2008.0</td>\n",
       "      <td>6.111</td>\n",
       "      <td>15.753</td>\n",
       "      <td>3.985</td>\n",
       "      <td>1518.534</td>\n",
       "      <td>1467.473</td>\n",
       "      <td>1610.141</td>\n",
       "      <td>1634.225</td>\n",
       "      <td>2184.263</td>\n",
       "      <td>133.306</td>\n",
       "      <td>134.303</td>\n",
       "      <td>108.277</td>\n",
       "      <td>42.200</td>\n",
       "      <td>43.185</td>\n",
       "      <td>765.686</td>\n",
       "      <td>6.813</td>\n",
       "      <td>18.232</td>\n",
       "      <td>0.000</td>\n",
       "      <td>0.004</td>\n",
       "      <td>19.179</td>\n",
       "      <td>3.704</td>\n",
       "      <td>15.022</td>\n",
       "      <td>0.090</td>\n",
       "      <td>25.296</td>\n",
       "    </tr>\n",
       "    <tr>\n",
       "      <th>std</th>\n",
       "      <td>0.0</td>\n",
       "      <td>3.483</td>\n",
       "      <td>8.776</td>\n",
       "      <td>1.996</td>\n",
       "      <td>450.485</td>\n",
       "      <td>424.767</td>\n",
       "      <td>548.178</td>\n",
       "      <td>464.635</td>\n",
       "      <td>1944.702</td>\n",
       "      <td>72.060</td>\n",
       "      <td>71.341</td>\n",
       "      <td>68.643</td>\n",
       "      <td>56.785</td>\n",
       "      <td>53.403</td>\n",
       "      <td>574.480</td>\n",
       "      <td>5.274</td>\n",
       "      <td>14.339</td>\n",
       "      <td>0.018</td>\n",
       "      <td>0.063</td>\n",
       "      <td>43.546</td>\n",
       "      <td>21.493</td>\n",
       "      <td>33.833</td>\n",
       "      <td>2.023</td>\n",
       "      <td>42.055</td>\n",
       "    </tr>\n",
       "    <tr>\n",
       "      <th>min</th>\n",
       "      <td>2008.0</td>\n",
       "      <td>1.000</td>\n",
       "      <td>1.000</td>\n",
       "      <td>1.000</td>\n",
       "      <td>1.000</td>\n",
       "      <td>0.000</td>\n",
       "      <td>1.000</td>\n",
       "      <td>0.000</td>\n",
       "      <td>1.000</td>\n",
       "      <td>14.000</td>\n",
       "      <td>-25.000</td>\n",
       "      <td>0.000</td>\n",
       "      <td>-109.000</td>\n",
       "      <td>6.000</td>\n",
       "      <td>11.000</td>\n",
       "      <td>0.000</td>\n",
       "      <td>0.000</td>\n",
       "      <td>0.000</td>\n",
       "      <td>0.000</td>\n",
       "      <td>0.000</td>\n",
       "      <td>0.000</td>\n",
       "      <td>0.000</td>\n",
       "      <td>0.000</td>\n",
       "      <td>0.000</td>\n",
       "    </tr>\n",
       "    <tr>\n",
       "      <th>25%</th>\n",
       "      <td>2008.0</td>\n",
       "      <td>3.000</td>\n",
       "      <td>8.000</td>\n",
       "      <td>2.000</td>\n",
       "      <td>1203.000</td>\n",
       "      <td>1135.000</td>\n",
       "      <td>1316.000</td>\n",
       "      <td>1325.000</td>\n",
       "      <td>610.000</td>\n",
       "      <td>80.000</td>\n",
       "      <td>82.000</td>\n",
       "      <td>58.000</td>\n",
       "      <td>9.000</td>\n",
       "      <td>12.000</td>\n",
       "      <td>338.000</td>\n",
       "      <td>4.000</td>\n",
       "      <td>10.000</td>\n",
       "      <td>0.000</td>\n",
       "      <td>0.000</td>\n",
       "      <td>0.000</td>\n",
       "      <td>0.000</td>\n",
       "      <td>0.000</td>\n",
       "      <td>0.000</td>\n",
       "      <td>0.000</td>\n",
       "    </tr>\n",
       "    <tr>\n",
       "      <th>50%</th>\n",
       "      <td>2008.0</td>\n",
       "      <td>6.000</td>\n",
       "      <td>16.000</td>\n",
       "      <td>4.000</td>\n",
       "      <td>1545.000</td>\n",
       "      <td>1510.000</td>\n",
       "      <td>1715.000</td>\n",
       "      <td>1705.000</td>\n",
       "      <td>1543.000</td>\n",
       "      <td>116.000</td>\n",
       "      <td>116.000</td>\n",
       "      <td>90.000</td>\n",
       "      <td>24.000</td>\n",
       "      <td>24.000</td>\n",
       "      <td>606.000</td>\n",
       "      <td>6.000</td>\n",
       "      <td>14.000</td>\n",
       "      <td>0.000</td>\n",
       "      <td>0.000</td>\n",
       "      <td>2.000</td>\n",
       "      <td>0.000</td>\n",
       "      <td>2.000</td>\n",
       "      <td>0.000</td>\n",
       "      <td>8.000</td>\n",
       "    </tr>\n",
       "    <tr>\n",
       "      <th>75%</th>\n",
       "      <td>2008.0</td>\n",
       "      <td>9.000</td>\n",
       "      <td>23.000</td>\n",
       "      <td>6.000</td>\n",
       "      <td>1900.000</td>\n",
       "      <td>1815.000</td>\n",
       "      <td>2030.000</td>\n",
       "      <td>2014.000</td>\n",
       "      <td>3422.000</td>\n",
       "      <td>165.000</td>\n",
       "      <td>165.000</td>\n",
       "      <td>137.000</td>\n",
       "      <td>56.000</td>\n",
       "      <td>53.000</td>\n",
       "      <td>998.000</td>\n",
       "      <td>8.000</td>\n",
       "      <td>21.000</td>\n",
       "      <td>0.000</td>\n",
       "      <td>0.000</td>\n",
       "      <td>21.000</td>\n",
       "      <td>0.000</td>\n",
       "      <td>15.000</td>\n",
       "      <td>0.000</td>\n",
       "      <td>33.000</td>\n",
       "    </tr>\n",
       "    <tr>\n",
       "      <th>max</th>\n",
       "      <td>2008.0</td>\n",
       "      <td>12.000</td>\n",
       "      <td>31.000</td>\n",
       "      <td>7.000</td>\n",
       "      <td>2400.000</td>\n",
       "      <td>2359.000</td>\n",
       "      <td>2400.000</td>\n",
       "      <td>2400.000</td>\n",
       "      <td>9742.000</td>\n",
       "      <td>1114.000</td>\n",
       "      <td>660.000</td>\n",
       "      <td>1091.000</td>\n",
       "      <td>2461.000</td>\n",
       "      <td>2467.000</td>\n",
       "      <td>4962.000</td>\n",
       "      <td>240.000</td>\n",
       "      <td>422.000</td>\n",
       "      <td>1.000</td>\n",
       "      <td>1.000</td>\n",
       "      <td>2436.000</td>\n",
       "      <td>1352.000</td>\n",
       "      <td>1357.000</td>\n",
       "      <td>392.000</td>\n",
       "      <td>1316.000</td>\n",
       "    </tr>\n",
       "  </tbody>\n",
       "</table>\n",
       "</div>"
      ],
      "text/plain": [
       "            Year        Month   DayofMonth    DayOfWeek      DepTime  \\\n",
       "count  1936758.0  1936758.000  1936758.000  1936758.000  1936758.000   \n",
       "mean      2008.0        6.111       15.753        3.985     1518.534   \n",
       "std          0.0        3.483        8.776        1.996      450.485   \n",
       "min       2008.0        1.000        1.000        1.000        1.000   \n",
       "25%       2008.0        3.000        8.000        2.000     1203.000   \n",
       "50%       2008.0        6.000       16.000        4.000     1545.000   \n",
       "75%       2008.0        9.000       23.000        6.000     1900.000   \n",
       "max       2008.0       12.000       31.000        7.000     2400.000   \n",
       "\n",
       "        CRSDepTime      ArrTime   CRSArrTime    FlightNum  ActualElapsedTime  \\\n",
       "count  1936758.000  1929648.000  1936758.000  1936758.000        1928371.000   \n",
       "mean      1467.473     1610.141     1634.225     2184.263            133.306   \n",
       "std        424.767      548.178      464.635     1944.702             72.060   \n",
       "min          0.000        1.000        0.000        1.000             14.000   \n",
       "25%       1135.000     1316.000     1325.000      610.000             80.000   \n",
       "50%       1510.000     1715.000     1705.000     1543.000            116.000   \n",
       "75%       1815.000     2030.000     2014.000     3422.000            165.000   \n",
       "max       2359.000     2400.000     2400.000     9742.000           1114.000   \n",
       "\n",
       "       CRSElapsedTime      AirTime     ArrDelay     DepDelay     Distance  \\\n",
       "count     1936560.000  1928371.000  1928371.000  1936758.000  1936758.000   \n",
       "mean          134.303      108.277       42.200       43.185      765.686   \n",
       "std            71.341       68.643       56.785       53.403      574.480   \n",
       "min           -25.000        0.000     -109.000        6.000       11.000   \n",
       "25%            82.000       58.000        9.000       12.000      338.000   \n",
       "50%           116.000       90.000       24.000       24.000      606.000   \n",
       "75%           165.000      137.000       56.000       53.000      998.000   \n",
       "max           660.000     1091.000     2461.000     2467.000     4962.000   \n",
       "\n",
       "            TaxiIn      TaxiOut    Cancelled     Diverted  CarrierDelay  \\\n",
       "count  1929648.000  1936303.000  1936758.000  1936758.000   1247488.000   \n",
       "mean         6.813       18.232        0.000        0.004        19.179   \n",
       "std          5.274       14.339        0.018        0.063        43.546   \n",
       "min          0.000        0.000        0.000        0.000         0.000   \n",
       "25%          4.000       10.000        0.000        0.000         0.000   \n",
       "50%          6.000       14.000        0.000        0.000         2.000   \n",
       "75%          8.000       21.000        0.000        0.000        21.000   \n",
       "max        240.000      422.000        1.000        1.000      2436.000   \n",
       "\n",
       "       WeatherDelay     NASDelay  SecurityDelay  LateAircraftDelay  \n",
       "count   1247488.000  1247488.000    1247488.000        1247488.000  \n",
       "mean          3.704       15.022          0.090             25.296  \n",
       "std          21.493       33.833          2.023             42.055  \n",
       "min           0.000        0.000          0.000              0.000  \n",
       "25%           0.000        0.000          0.000              0.000  \n",
       "50%           0.000        2.000          0.000              8.000  \n",
       "75%           0.000       15.000          0.000             33.000  \n",
       "max        1352.000     1357.000        392.000           1316.000  "
      ]
     },
     "execution_count": 6,
     "metadata": {},
     "output_type": "execute_result"
    }
   ],
   "source": [
    "df.describe().round(3)"
   ]
  },
  {
   "cell_type": "code",
   "execution_count": 7,
   "id": "given-building",
   "metadata": {},
   "outputs": [
    {
     "name": "stdout",
     "output_type": "stream",
     "text": [
      "<class 'pandas.core.frame.DataFrame'>\n",
      "RangeIndex: 1936758 entries, 0 to 1936757\n",
      "Data columns (total 29 columns):\n",
      " #   Column             Dtype  \n",
      "---  ------             -----  \n",
      " 0   Year               int64  \n",
      " 1   Month              int64  \n",
      " 2   DayofMonth         int64  \n",
      " 3   DayOfWeek          int64  \n",
      " 4   DepTime            float64\n",
      " 5   CRSDepTime         int64  \n",
      " 6   ArrTime            float64\n",
      " 7   CRSArrTime         int64  \n",
      " 8   UniqueCarrier      object \n",
      " 9   FlightNum          int64  \n",
      " 10  TailNum            object \n",
      " 11  ActualElapsedTime  float64\n",
      " 12  CRSElapsedTime     float64\n",
      " 13  AirTime            float64\n",
      " 14  ArrDelay           float64\n",
      " 15  DepDelay           float64\n",
      " 16  Origin             object \n",
      " 17  Dest               object \n",
      " 18  Distance           int64  \n",
      " 19  TaxiIn             float64\n",
      " 20  TaxiOut            float64\n",
      " 21  Cancelled          int64  \n",
      " 22  CancellationCode   object \n",
      " 23  Diverted           int64  \n",
      " 24  CarrierDelay       float64\n",
      " 25  WeatherDelay       float64\n",
      " 26  NASDelay           float64\n",
      " 27  SecurityDelay      float64\n",
      " 28  LateAircraftDelay  float64\n",
      "dtypes: float64(14), int64(10), object(5)\n",
      "memory usage: 428.5+ MB\n"
     ]
    }
   ],
   "source": [
    "df.info()"
   ]
  },
  {
   "cell_type": "code",
   "execution_count": 10,
   "id": "alpha-somalia",
   "metadata": {},
   "outputs": [],
   "source": [
    "#elimino filas con NAN que hay en la columna ArrDelay \n",
    "dflimpio=df.dropna(subset=['ArrDelay'])"
   ]
  },
  {
   "cell_type": "code",
   "execution_count": 11,
   "id": "passing-difficulty",
   "metadata": {},
   "outputs": [
    {
     "data": {
      "text/plain": [
       "0"
      ]
     },
     "execution_count": 11,
     "metadata": {},
     "output_type": "execute_result"
    }
   ],
   "source": [
    "dflimpio.ArrDelay.isnull().sum()"
   ]
  },
  {
   "cell_type": "code",
   "execution_count": 13,
   "id": "pursuant-healthcare",
   "metadata": {},
   "outputs": [],
   "source": [
    "dfl=dflimpio.copy()"
   ]
  },
  {
   "cell_type": "code",
   "execution_count": 14,
   "id": "historical-cylinder",
   "metadata": {},
   "outputs": [],
   "source": [
    "#1 si hay  retraso 0 si ha llegado sin retraso\n",
    "dfl['llegadas']= dfl['ArrDelay'].apply(lambda x: 1 if x >0 else 0)"
   ]
  },
  {
   "cell_type": "code",
   "execution_count": 15,
   "id": "collect-relative",
   "metadata": {},
   "outputs": [
    {
     "data": {
      "text/plain": [
       "1    1723415\n",
       "0     204956\n",
       "Name: llegadas, dtype: int64"
      ]
     },
     "execution_count": 15,
     "metadata": {},
     "output_type": "execute_result"
    }
   ],
   "source": [
    "dfl.llegadas.value_counts()"
   ]
  },
  {
   "cell_type": "code",
   "execution_count": 16,
   "id": "assigned-packet",
   "metadata": {},
   "outputs": [
    {
     "data": {
      "text/html": [
       "<div>\n",
       "<style scoped>\n",
       "    .dataframe tbody tr th:only-of-type {\n",
       "        vertical-align: middle;\n",
       "    }\n",
       "\n",
       "    .dataframe tbody tr th {\n",
       "        vertical-align: top;\n",
       "    }\n",
       "\n",
       "    .dataframe thead th {\n",
       "        text-align: right;\n",
       "    }\n",
       "</style>\n",
       "<table border=\"1\" class=\"dataframe\">\n",
       "  <thead>\n",
       "    <tr style=\"text-align: right;\">\n",
       "      <th></th>\n",
       "      <th>Year</th>\n",
       "      <th>Month</th>\n",
       "      <th>DayofMonth</th>\n",
       "      <th>DayOfWeek</th>\n",
       "      <th>DepTime</th>\n",
       "      <th>CRSDepTime</th>\n",
       "      <th>ArrTime</th>\n",
       "      <th>CRSArrTime</th>\n",
       "      <th>UniqueCarrier</th>\n",
       "      <th>FlightNum</th>\n",
       "      <th>TailNum</th>\n",
       "      <th>ActualElapsedTime</th>\n",
       "      <th>CRSElapsedTime</th>\n",
       "      <th>AirTime</th>\n",
       "      <th>ArrDelay</th>\n",
       "      <th>DepDelay</th>\n",
       "      <th>Origin</th>\n",
       "      <th>Dest</th>\n",
       "      <th>Distance</th>\n",
       "      <th>TaxiIn</th>\n",
       "      <th>TaxiOut</th>\n",
       "      <th>Cancelled</th>\n",
       "      <th>CancellationCode</th>\n",
       "      <th>Diverted</th>\n",
       "      <th>CarrierDelay</th>\n",
       "      <th>WeatherDelay</th>\n",
       "      <th>NASDelay</th>\n",
       "      <th>SecurityDelay</th>\n",
       "      <th>LateAircraftDelay</th>\n",
       "      <th>llegadas</th>\n",
       "    </tr>\n",
       "  </thead>\n",
       "  <tbody>\n",
       "    <tr>\n",
       "      <th>0</th>\n",
       "      <td>2008</td>\n",
       "      <td>1</td>\n",
       "      <td>3</td>\n",
       "      <td>4</td>\n",
       "      <td>2003.0</td>\n",
       "      <td>1955</td>\n",
       "      <td>2211.0</td>\n",
       "      <td>2225</td>\n",
       "      <td>WN</td>\n",
       "      <td>335</td>\n",
       "      <td>N712SW</td>\n",
       "      <td>128.0</td>\n",
       "      <td>150.0</td>\n",
       "      <td>116.0</td>\n",
       "      <td>-14.0</td>\n",
       "      <td>8.0</td>\n",
       "      <td>IAD</td>\n",
       "      <td>TPA</td>\n",
       "      <td>810</td>\n",
       "      <td>4.0</td>\n",
       "      <td>8.0</td>\n",
       "      <td>0</td>\n",
       "      <td>N</td>\n",
       "      <td>0</td>\n",
       "      <td>NaN</td>\n",
       "      <td>NaN</td>\n",
       "      <td>NaN</td>\n",
       "      <td>NaN</td>\n",
       "      <td>NaN</td>\n",
       "      <td>0</td>\n",
       "    </tr>\n",
       "    <tr>\n",
       "      <th>1</th>\n",
       "      <td>2008</td>\n",
       "      <td>1</td>\n",
       "      <td>3</td>\n",
       "      <td>4</td>\n",
       "      <td>754.0</td>\n",
       "      <td>735</td>\n",
       "      <td>1002.0</td>\n",
       "      <td>1000</td>\n",
       "      <td>WN</td>\n",
       "      <td>3231</td>\n",
       "      <td>N772SW</td>\n",
       "      <td>128.0</td>\n",
       "      <td>145.0</td>\n",
       "      <td>113.0</td>\n",
       "      <td>2.0</td>\n",
       "      <td>19.0</td>\n",
       "      <td>IAD</td>\n",
       "      <td>TPA</td>\n",
       "      <td>810</td>\n",
       "      <td>5.0</td>\n",
       "      <td>10.0</td>\n",
       "      <td>0</td>\n",
       "      <td>N</td>\n",
       "      <td>0</td>\n",
       "      <td>NaN</td>\n",
       "      <td>NaN</td>\n",
       "      <td>NaN</td>\n",
       "      <td>NaN</td>\n",
       "      <td>NaN</td>\n",
       "      <td>1</td>\n",
       "    </tr>\n",
       "    <tr>\n",
       "      <th>2</th>\n",
       "      <td>2008</td>\n",
       "      <td>1</td>\n",
       "      <td>3</td>\n",
       "      <td>4</td>\n",
       "      <td>628.0</td>\n",
       "      <td>620</td>\n",
       "      <td>804.0</td>\n",
       "      <td>750</td>\n",
       "      <td>WN</td>\n",
       "      <td>448</td>\n",
       "      <td>N428WN</td>\n",
       "      <td>96.0</td>\n",
       "      <td>90.0</td>\n",
       "      <td>76.0</td>\n",
       "      <td>14.0</td>\n",
       "      <td>8.0</td>\n",
       "      <td>IND</td>\n",
       "      <td>BWI</td>\n",
       "      <td>515</td>\n",
       "      <td>3.0</td>\n",
       "      <td>17.0</td>\n",
       "      <td>0</td>\n",
       "      <td>N</td>\n",
       "      <td>0</td>\n",
       "      <td>NaN</td>\n",
       "      <td>NaN</td>\n",
       "      <td>NaN</td>\n",
       "      <td>NaN</td>\n",
       "      <td>NaN</td>\n",
       "      <td>1</td>\n",
       "    </tr>\n",
       "    <tr>\n",
       "      <th>3</th>\n",
       "      <td>2008</td>\n",
       "      <td>1</td>\n",
       "      <td>3</td>\n",
       "      <td>4</td>\n",
       "      <td>1829.0</td>\n",
       "      <td>1755</td>\n",
       "      <td>1959.0</td>\n",
       "      <td>1925</td>\n",
       "      <td>WN</td>\n",
       "      <td>3920</td>\n",
       "      <td>N464WN</td>\n",
       "      <td>90.0</td>\n",
       "      <td>90.0</td>\n",
       "      <td>77.0</td>\n",
       "      <td>34.0</td>\n",
       "      <td>34.0</td>\n",
       "      <td>IND</td>\n",
       "      <td>BWI</td>\n",
       "      <td>515</td>\n",
       "      <td>3.0</td>\n",
       "      <td>10.0</td>\n",
       "      <td>0</td>\n",
       "      <td>N</td>\n",
       "      <td>0</td>\n",
       "      <td>2.0</td>\n",
       "      <td>0.0</td>\n",
       "      <td>0.0</td>\n",
       "      <td>0.0</td>\n",
       "      <td>32.0</td>\n",
       "      <td>1</td>\n",
       "    </tr>\n",
       "    <tr>\n",
       "      <th>4</th>\n",
       "      <td>2008</td>\n",
       "      <td>1</td>\n",
       "      <td>3</td>\n",
       "      <td>4</td>\n",
       "      <td>1940.0</td>\n",
       "      <td>1915</td>\n",
       "      <td>2121.0</td>\n",
       "      <td>2110</td>\n",
       "      <td>WN</td>\n",
       "      <td>378</td>\n",
       "      <td>N726SW</td>\n",
       "      <td>101.0</td>\n",
       "      <td>115.0</td>\n",
       "      <td>87.0</td>\n",
       "      <td>11.0</td>\n",
       "      <td>25.0</td>\n",
       "      <td>IND</td>\n",
       "      <td>JAX</td>\n",
       "      <td>688</td>\n",
       "      <td>4.0</td>\n",
       "      <td>10.0</td>\n",
       "      <td>0</td>\n",
       "      <td>N</td>\n",
       "      <td>0</td>\n",
       "      <td>NaN</td>\n",
       "      <td>NaN</td>\n",
       "      <td>NaN</td>\n",
       "      <td>NaN</td>\n",
       "      <td>NaN</td>\n",
       "      <td>1</td>\n",
       "    </tr>\n",
       "  </tbody>\n",
       "</table>\n",
       "</div>"
      ],
      "text/plain": [
       "   Year  Month  DayofMonth  DayOfWeek  DepTime  CRSDepTime  ArrTime  \\\n",
       "0  2008      1           3          4   2003.0        1955   2211.0   \n",
       "1  2008      1           3          4    754.0         735   1002.0   \n",
       "2  2008      1           3          4    628.0         620    804.0   \n",
       "3  2008      1           3          4   1829.0        1755   1959.0   \n",
       "4  2008      1           3          4   1940.0        1915   2121.0   \n",
       "\n",
       "   CRSArrTime UniqueCarrier  FlightNum TailNum  ActualElapsedTime  \\\n",
       "0        2225            WN        335  N712SW              128.0   \n",
       "1        1000            WN       3231  N772SW              128.0   \n",
       "2         750            WN        448  N428WN               96.0   \n",
       "3        1925            WN       3920  N464WN               90.0   \n",
       "4        2110            WN        378  N726SW              101.0   \n",
       "\n",
       "   CRSElapsedTime  AirTime  ArrDelay  DepDelay Origin Dest  Distance  TaxiIn  \\\n",
       "0           150.0    116.0     -14.0       8.0    IAD  TPA       810     4.0   \n",
       "1           145.0    113.0       2.0      19.0    IAD  TPA       810     5.0   \n",
       "2            90.0     76.0      14.0       8.0    IND  BWI       515     3.0   \n",
       "3            90.0     77.0      34.0      34.0    IND  BWI       515     3.0   \n",
       "4           115.0     87.0      11.0      25.0    IND  JAX       688     4.0   \n",
       "\n",
       "   TaxiOut  Cancelled CancellationCode  Diverted  CarrierDelay  WeatherDelay  \\\n",
       "0      8.0          0                N         0           NaN           NaN   \n",
       "1     10.0          0                N         0           NaN           NaN   \n",
       "2     17.0          0                N         0           NaN           NaN   \n",
       "3     10.0          0                N         0           2.0           0.0   \n",
       "4     10.0          0                N         0           NaN           NaN   \n",
       "\n",
       "   NASDelay  SecurityDelay  LateAircraftDelay  llegadas  \n",
       "0       NaN            NaN                NaN         0  \n",
       "1       NaN            NaN                NaN         1  \n",
       "2       NaN            NaN                NaN         1  \n",
       "3       0.0            0.0               32.0         1  \n",
       "4       NaN            NaN                NaN         1  "
      ]
     },
     "execution_count": 16,
     "metadata": {},
     "output_type": "execute_result"
    }
   ],
   "source": [
    "dfl.head()"
   ]
  },
  {
   "cell_type": "code",
   "execution_count": 17,
   "id": "demonstrated-affair",
   "metadata": {},
   "outputs": [],
   "source": [
    "target_column = ['llegadas']"
   ]
  },
  {
   "cell_type": "code",
   "execution_count": 18,
   "id": "published-study",
   "metadata": {},
   "outputs": [],
   "source": [
    "predictors=['DepDelay']"
   ]
  },
  {
   "cell_type": "code",
   "execution_count": 19,
   "id": "rotary-coordination",
   "metadata": {},
   "outputs": [],
   "source": [
    "y = pd.DataFrame(dfl, columns=target_column)"
   ]
  },
  {
   "cell_type": "code",
   "execution_count": 20,
   "id": "public-partnership",
   "metadata": {},
   "outputs": [],
   "source": [
    "X=pd.DataFrame(dfl, columns=predictors)"
   ]
  },
  {
   "cell_type": "code",
   "execution_count": 21,
   "id": "manual-distribution",
   "metadata": {},
   "outputs": [],
   "source": [
    "#divido DFs en trainset y test set\n",
    "X_train, X_test, y_train, y_test = train_test_split(X, y, test_size=0.33,random_state=42)"
   ]
  },
  {
   "cell_type": "code",
   "execution_count": 22,
   "id": "rising-savannah",
   "metadata": {},
   "outputs": [
    {
     "data": {
      "text/plain": [
       "((1292008, 1), (636363, 1), (1292008, 1), (636363, 1))"
      ]
     },
     "execution_count": 22,
     "metadata": {},
     "output_type": "execute_result"
    }
   ],
   "source": [
    "X_train.shape, X_test.shape, y_train.shape, y_test.shape"
   ]
  },
  {
   "cell_type": "markdown",
   "id": "hybrid-steps",
   "metadata": {},
   "source": [
    "Árbol de decisión"
   ]
  },
  {
   "cell_type": "code",
   "execution_count": 39,
   "id": "recorded-joshua",
   "metadata": {},
   "outputs": [],
   "source": [
    "clfdf=DecisionTreeClassifier(class_weight='balanced')"
   ]
  },
  {
   "cell_type": "code",
   "execution_count": 41,
   "id": "unknown-baseball",
   "metadata": {},
   "outputs": [
    {
     "data": {
      "text/plain": [
       "DecisionTreeClassifier(class_weight='balanced')"
      ]
     },
     "execution_count": 41,
     "metadata": {},
     "output_type": "execute_result"
    }
   ],
   "source": [
    "clfdf.fit(X_train,y_train)"
   ]
  },
  {
   "cell_type": "code",
   "execution_count": 27,
   "id": "unlikely-pavilion",
   "metadata": {},
   "outputs": [],
   "source": [
    "y_pred_clfdf = clfdf.predict(X_test)"
   ]
  },
  {
   "cell_type": "markdown",
   "id": "finished-absence",
   "metadata": {},
   "source": [
    "Naive Bayes"
   ]
  },
  {
   "cell_type": "code",
   "execution_count": 43,
   "id": "persistent-utilization",
   "metadata": {},
   "outputs": [],
   "source": [
    "clfGNB = GaussianNB()\n",
    "clfGNB.fit(X_train, y_train.values.ravel())\n",
    "y_predGNB = clfGNB.predict(X_test)"
   ]
  },
  {
   "cell_type": "markdown",
   "id": "healthy-lesson",
   "metadata": {},
   "source": [
    "KNN NeighborsClassifier"
   ]
  },
  {
   "cell_type": "code",
   "execution_count": 49,
   "id": "everyday-array",
   "metadata": {},
   "outputs": [],
   "source": [
    "neighbor = KNeighborsClassifier(n_neighbors=2)"
   ]
  },
  {
   "cell_type": "code",
   "execution_count": 51,
   "id": "economic-wallet",
   "metadata": {},
   "outputs": [
    {
     "data": {
      "text/plain": [
       "KNeighborsClassifier(n_neighbors=2)"
      ]
     },
     "execution_count": 51,
     "metadata": {},
     "output_type": "execute_result"
    }
   ],
   "source": [
    "neighbor.fit(X_train, y_train.values.ravel())"
   ]
  },
  {
   "cell_type": "code",
   "execution_count": 52,
   "id": "animal-impossible",
   "metadata": {},
   "outputs": [],
   "source": [
    "y_predKNN=neighbor.predict(X_test)"
   ]
  },
  {
   "cell_type": "markdown",
   "id": "intensive-disabled",
   "metadata": {},
   "source": [
    "# Exercici 2\n",
    "\n",
    "Compara els models de classificació utilitzant la precisió (accuracy), una matriu de confiança i d’altres mètriques més avançades."
   ]
  },
  {
   "cell_type": "markdown",
   "id": "patient-baseline",
   "metadata": {},
   "source": [
    "Accuracy"
   ]
  },
  {
   "cell_type": "markdown",
   "id": "young-showcase",
   "metadata": {},
   "source": [
    "Árbol de decisión"
   ]
  },
  {
   "cell_type": "code",
   "execution_count": 69,
   "id": "pressing-feeling",
   "metadata": {},
   "outputs": [
    {
     "name": "stdout",
     "output_type": "stream",
     "text": [
      "Accuracy del Árbol de decisión: 0.7209925781354353\n"
     ]
    }
   ],
   "source": [
    "print(\"Accuracy del Árbol de decisión:\",metrics.accuracy_score(y_test, y_pred_clfdf))"
   ]
  },
  {
   "cell_type": "code",
   "execution_count": 48,
   "id": "hairy-aaron",
   "metadata": {},
   "outputs": [
    {
     "name": "stdout",
     "output_type": "stream",
     "text": [
      "[[0.8945703  0.1054297 ]\n",
      " [0.29954064 0.70045936]]\n"
     ]
    }
   ],
   "source": [
    "cm_clf = metrics.confusion_matrix(y_test, y_pred_clfdf,normalize='true')\n",
    "print(cm_clf)"
   ]
  },
  {
   "cell_type": "code",
   "execution_count": 70,
   "id": "usual-cleanup",
   "metadata": {},
   "outputs": [
    {
     "name": "stdout",
     "output_type": "stream",
     "text": [
      "La precision del Árbol de decisión :  0.9825064334519783\n"
     ]
    }
   ],
   "source": [
    "print(\"La precision del Árbol de decisión : \" ,metrics.precision_score(y_test, y_pred_clfdf))"
   ]
  },
  {
   "cell_type": "markdown",
   "id": "elegant-dover",
   "metadata": {},
   "source": [
    "Naive Bayes"
   ]
  },
  {
   "cell_type": "code",
   "execution_count": 71,
   "id": "stock-expense",
   "metadata": {},
   "outputs": [
    {
     "name": "stdout",
     "output_type": "stream",
     "text": [
      "Accuracy del Naive Bayes: 0.7378728807300236\n"
     ]
    }
   ],
   "source": [
    "print(\"Accuracy del Naive Bayes:\",metrics.accuracy_score(y_test, y_predGNB))"
   ]
  },
  {
   "cell_type": "code",
   "execution_count": 47,
   "id": "administrative-meditation",
   "metadata": {},
   "outputs": [
    {
     "name": "stdout",
     "output_type": "stream",
     "text": [
      "[[0.87224244 0.12775756]\n",
      " [0.27802224 0.72197776]]\n"
     ]
    }
   ],
   "source": [
    "cm_clnb = metrics.confusion_matrix(y_test, y_predGNB,normalize='true')\n",
    "print(cm_clnb)"
   ]
  },
  {
   "cell_type": "code",
   "execution_count": 65,
   "id": "wicked-trace",
   "metadata": {},
   "outputs": [
    {
     "name": "stdout",
     "output_type": "stream",
     "text": [
      "La precision de Naive Bayes :  0.9794964714857906\n"
     ]
    }
   ],
   "source": [
    "print(\"La precision de Naive Bayes : \" ,metrics.precision_score(y_test, y_predGNB))"
   ]
  },
  {
   "cell_type": "markdown",
   "id": "boring-tablet",
   "metadata": {},
   "source": [
    "KNN"
   ]
  },
  {
   "cell_type": "code",
   "execution_count": 72,
   "id": "dressed-proceeding",
   "metadata": {},
   "outputs": [
    {
     "name": "stdout",
     "output_type": "stream",
     "text": [
      "Accuracy del KNN: 0.8046602332316618\n"
     ]
    }
   ],
   "source": [
    "print(\"Accuracy del KNN:\",metrics.accuracy_score(y_test, y_predKNN))"
   ]
  },
  {
   "cell_type": "code",
   "execution_count": 55,
   "id": "forty-facing",
   "metadata": {},
   "outputs": [
    {
     "name": "stdout",
     "output_type": "stream",
     "text": [
      "[[0.35215034 0.64784966]\n",
      " [0.14181053 0.85818947]]\n"
     ]
    }
   ],
   "source": [
    "cm_knn = metrics.confusion_matrix(y_test, y_predKNN,normalize='true')\n",
    "print(cm_knn)"
   ]
  },
  {
   "cell_type": "code",
   "execution_count": 66,
   "id": "deluxe-montana",
   "metadata": {},
   "outputs": [
    {
     "name": "stdout",
     "output_type": "stream",
     "text": [
      "La precision de knn :  0.9180203059998759\n"
     ]
    }
   ],
   "source": [
    "print(\"La precision de knn : \" ,metrics.precision_score(y_test, y_predKNN))"
   ]
  },
  {
   "cell_type": "code",
   "execution_count": 63,
   "id": "altered-atmosphere",
   "metadata": {},
   "outputs": [],
   "source": [
    "#Como se puede ver de los tres algoritmos el mejor resultado ha dado KNN NeighborsClassifier segun accuracy\n",
    "#tabmien el que mas ha tardado. "
   ]
  },
  {
   "cell_type": "code",
   "execution_count": 64,
   "id": "comparative-england",
   "metadata": {},
   "outputs": [],
   "source": [
    "#El mas preciso es el arbol de decision"
   ]
  },
  {
   "cell_type": "code",
   "execution_count": null,
   "id": "exact-dictionary",
   "metadata": {},
   "outputs": [],
   "source": []
  }
 ],
 "metadata": {
  "kernelspec": {
   "display_name": "Python 3",
   "language": "python",
   "name": "python3"
  },
  "language_info": {
   "codemirror_mode": {
    "name": "ipython",
    "version": 3
   },
   "file_extension": ".py",
   "mimetype": "text/x-python",
   "name": "python",
   "nbconvert_exporter": "python",
   "pygments_lexer": "ipython3",
   "version": "3.8.5"
  }
 },
 "nbformat": 4,
 "nbformat_minor": 5
}
